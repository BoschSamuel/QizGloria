{
 "cells": [
  {
   "cell_type": "code",
   "execution_count": 106,
   "metadata": {},
   "outputs": [],
   "source": [
    "from qiskit import *"
   ]
  },
  {
   "cell_type": "code",
   "execution_count": 107,
   "metadata": {
    "scrolled": true
   },
   "outputs": [
    {
     "data": {
      "text/plain": [
       "tensor([[ 5.4366, -5.4366],\n",
       "        [ 5.4366,  5.4366]])"
      ]
     },
     "execution_count": 107,
     "metadata": {},
     "output_type": "execute_result"
    }
   ],
   "source": [
    "import torch\n",
    "from torch.autograd import Function\n",
    "\n",
    "class myExp(Function):\n",
    "     @staticmethod\n",
    "     def forward(ctx, i):\n",
    "         result = i.exp()\n",
    "         ctx.save_for_backward(result)\n",
    "         return result\n",
    "\n",
    "     @staticmethod\n",
    "     def backward(ctx, grad_output):\n",
    "         result, = ctx.saved_tensors\n",
    "         return grad_output * result\n",
    "\n",
    "x = torch.tensor([[1., -1.], [1., 1.]], requires_grad=True)\n",
    "myexp = myExp.apply\n",
    "y1 = x**2\n",
    "y2 = myexp(y1).sum().backward()\n",
    "x.grad"
   ]
  },
  {
   "cell_type": "code",
   "execution_count": 108,
   "metadata": {},
   "outputs": [
    {
     "data": {
      "text/plain": [
       "array([1.])"
      ]
     },
     "execution_count": 108,
     "metadata": {},
     "output_type": "execute_result"
    }
   ],
   "source": [
    "np.ones(1)"
   ]
  },
  {
   "cell_type": "code",
   "execution_count": 109,
   "metadata": {},
   "outputs": [],
   "source": [
    "import numpy as np"
   ]
  },
  {
   "cell_type": "code",
   "execution_count": 114,
   "metadata": {},
   "outputs": [
    {
     "name": "stdout",
     "output_type": "stream",
     "text": [
      "Measure in X\n",
      "[0.022 0.046]         ┌──────────┐┌─┐   \n",
      "q_0: |0>┤ Rx(pi/2) ├┤M├───\n",
      "        ├──────────┤└╥┘┌─┐\n",
      "q_1: |0>┤ Rx(pi/2) ├─╫─┤M├\n",
      "        └──────────┘ ║ └╥┘\n",
      " c_0: 0 ═════════════╩══╬═\n",
      "                        ║ \n",
      " c_1: 0 ════════════════╩═\n",
      "                          \n"
     ]
    }
   ],
   "source": [
    "import qiskit\n",
    "from qiskit import QuantumCircuit, QuantumRegister, ClassicalRegister\n",
    "import matplotlib.pyplot as plt\n",
    "%matplotlib inline\n",
    "\n",
    "parameters = np.random.rand(3)\n",
    "shots = 1000\n",
    "\n",
    "circuit = QuantumCircuit(2, 2)\n",
    "\n",
    "def add_measurements(circuit):\n",
    "    nr_qubits = circuit.n_qubits\n",
    "    circuit.measure(range(nr_qubits), range(nr_qubits))\n",
    "    return circuit\n",
    "    \n",
    "def add_x_rotation(circuit):\n",
    "    nr_qubits = circuit.n_qubits\n",
    "    for i in range(nr_qubits):\n",
    "        circuit.rx(np.pi/2, i)\n",
    "    return circuit    \n",
    "\n",
    "def add_y_rotation(circuit):\n",
    "    nr_qubits = circuit.n_qubits\n",
    "    for i in range(nr_qubits):\n",
    "        circuit.ry(np.pi/2, i)  \n",
    "    return circuit    \n",
    "\n",
    "def execute_job(circuit, shots):\n",
    "    simulator = Aer.get_backend('qasm_simulator')\n",
    "    job = execute(circuit, simulator, shots=shots)\n",
    "    result = job.result()\n",
    "    counts = result.get_counts(circuit)\n",
    "    return counts\n",
    "\n",
    "def N_qubit_expectation(circuit, shots, measurement='Z'):\n",
    "    if measurement=='Z':\n",
    "        print(\"Measure in Z\")\n",
    "        nr_qubits = circuit.n_qubits\n",
    "        circuit = add_measurements(circuit)\n",
    "        counts = execute_job(circuit, shots)\n",
    "        return N_qubit_expectation_Z(counts, shots, nr_qubits)\n",
    "    if measurement=='X':\n",
    "        print(\"Measure in X\")\n",
    "        nr_qubits = circuit.n_qubits\n",
    "        circuit = add_x_rotation(circuit)\n",
    "        #circuit.h(0)\n",
    "        circuit = add_measurements(circuit)\n",
    "        counts = execute_job(circuit, shots)\n",
    "        return N_qubit_expectation_Z(counts, shots, nr_qubits), circuit\n",
    "    if measurement=='Y':\n",
    "        nr_qubits = circuit.n_qubits\n",
    "        circuit = add_y_rotation(circuit)\n",
    "        circuit = add_measurements(circuit)\n",
    "        counts = execute_job(circuit, shots)\n",
    "        return N_qubit_expectation_Z(counts, shots, nr_qubits)\n",
    "    else:\n",
    "        print(\"Measurement type not yet defined\")\n",
    "\n",
    "def N_qubit_expectation_Z(counts, shots, nr_qubits):\n",
    "    expects = np.zeros(nr_qubits)\n",
    "    for key in counts.keys():\n",
    "        perc = counts[key]/shots\n",
    "        check = np.array([(float(key[i])-1/2)*2*perc for i in range(nr_qubits)])\n",
    "        expects += check   \n",
    "    return expects    \n",
    "\n",
    "def one_qubit_expectation_Z(counts, shots):\n",
    "    probs = sorted([(i, c/shots) for i, c in counts.items()])\n",
    "    P = np.float64(np.array(probs)[:, 1])\n",
    "    print(P[0], P[1])\n",
    "    return P[0]*1 + P[1]*-1\n",
    "    \n",
    "def one_qubit_error(counts, shots, Z_traget):\n",
    "    return (one_qubit_expectation_Z(counts, shots)- Z_target)**2\n",
    "\n",
    "def N_qubit_error(counts, shots, nr_qubits, target_array):\n",
    "    return ((N_qubit_expectation_Z(counts, shots, nr_qubits)-target_array)**2).sum()\n",
    "\n",
    "#circuit = add_measurements(circuit)\n",
    "#counts = execute_job(circuit, 1000)\n",
    "expects, circuit = N_qubit_expectation(circuit, shots, measurement=\"X\")\n",
    "circuit.draw()\n",
    "print(expects, circuit)"
   ]
  },
  {
   "cell_type": "code",
   "execution_count": 111,
   "metadata": {},
   "outputs": [
    {
     "data": {
      "text/plain": [
       "2"
      ]
     },
     "execution_count": 111,
     "metadata": {},
     "output_type": "execute_result"
    }
   ],
   "source": [
    "circuit.n_qubits"
   ]
  },
  {
   "cell_type": "code",
   "execution_count": 112,
   "metadata": {},
   "outputs": [],
   "source": [
    "class QiskitCircuit():\n",
    "    \n",
    "    def __init__(self,shots):\n",
    "        self.theta = Parameter('Theta')\n",
    "        self.phi = Parameter('Phi')\n",
    "        self.lam = Parameter('Lambda')\n",
    "        self.shots = shots\n",
    "        \n",
    "        def create_circuit():\n",
    "            qr = QuantumRegister(1,'q')\n",
    "            cr = ClassicalRegister(1,'c')\n",
    "            ckt = QuantumCircuit(qr,cr)\n",
    "            ckt.h(qr[0])\n",
    "            ckt.barrier()\n",
    "            ckt.u3(self.theta,self.phi,self.lam,qr[0])\n",
    "            ckt.barrier()\n",
    "            ckt.measure(qr,cr)\n",
    "            return ckt\n",
    "        \n",
    "        self.circuit = create_circuit()\n",
    "        \n",
    "    def N_qubit_expectation_Z(self,counts, shots, nr_qubits):\n",
    "        expects = np.zeros(nr_qubits)\n",
    "        for key in counts.keys():\n",
    "            perc = counts[key]/shots\n",
    "            check = np.array([(float(key[i])-1/2)*2*perc for i in range(nr_qubits)])\n",
    "            expects += check   \n",
    "        return expects    \n",
    "    \n",
    "    def bind(self,parameters):\n",
    "        [self.theta,self.phi,self.lam] = parameters\n",
    "        self.circuit.data[2][0]._params = parameters\n",
    "        return self.circuit\n",
    "    \n",
    "    def run(self):\n",
    "        backend = Aer.get_backend('qasm_simulator')\n",
    "        job_sim = execute(self.circuit,backend,shots=self.shots)\n",
    "        result_sim = job_sim.result()\n",
    "        counts = result_sim.get_counts(self.circuit)\n",
    "        return self.N_qubit_expectation_Z(counts,self.shots,1)\n",
    "\n",
    "class TorchCircuit(Function):    \n",
    "\n",
    "    @staticmethod\n",
    "    def forward(ctx, i):\n",
    "        if not hasattr(ctx, 'QiskitCirc'):\n",
    "            ctx.QiskitCirc = QiskitCircuit(shots=100000)\n",
    "            \n",
    "        ckt = ctx.QiskitCirc.bind([i[0][0].item(), i[0][1].item(), i[0][2].item()])\n",
    "        exp_value = ctx.QiskitCirc.run()\n",
    "        \n",
    "        result = torch.tensor([[exp_value]])\n",
    "        \n",
    "        ctx.save_for_backward(result, i)\n",
    "        \n",
    "        print(result)\n",
    "        \n",
    "        return result\n",
    "    \n",
    "    @staticmethod\n",
    "    def backward(ctx, grad_output):\n",
    "        eps = 0.01\n",
    "        \n",
    "        forward_tensor, i = ctx.saved_tensors    \n",
    "        input_numbers = [i[0][0].item(), i[0][1].item(), i[0][2].item()]\n",
    "        gradient = [0,0,0]\n",
    "        \n",
    "        for k in range(len(input_numbers)):\n",
    "            input_eps = input_numbers\n",
    "            input_eps[k] = input_numbers[k] + eps\n",
    "            \n",
    "            _ckt = ctx.QiskitCirc.bind(input_eps)\n",
    "\n",
    "            exp_value = ctx.QiskitCirc.run()[0]\n",
    "            result_eps = torch.tensor([[exp_value]])\n",
    "            gradient_result = (exp_value - forward_tensor[0][0].item())\n",
    "            gradient[k] = gradient_result\n",
    "            \n",
    "        result = torch.tensor([gradient])\n",
    "\n",
    "        return result.float() * grad_output.float() "
   ]
  },
  {
   "cell_type": "code",
   "execution_count": 115,
   "metadata": {},
   "outputs": [],
   "source": [
    "# useful additional packages \n",
    "import matplotlib.pyplot as plt\n",
    "import matplotlib.axes as axes\n",
    "%matplotlib inline\n",
    "import numpy as np\n",
    "import networkx as nx\n",
    "\n",
    "from qiskit import BasicAer\n",
    "from qiskit.tools.visualization import plot_histogram\n",
    "from qiskit.aqua import run_algorithm\n",
    "from qiskit.aqua.input import EnergyInput\n",
    "from qiskit.aqua.translators.ising import max_cut, tsp\n",
    "from qiskit.aqua.algorithms import VQE, ExactEigensolver\n",
    "from qiskit.aqua.components.optimizers import SPSA\n",
    "from qiskit.aqua.components.variational_forms import RY\n",
    "from qiskit.aqua import QuantumInstance\n",
    "\n",
    "# setup aqua logging\n",
    "import logging\n",
    "from qiskit.aqua import set_qiskit_aqua_logging"
   ]
  },
  {
   "cell_type": "code",
   "execution_count": 121,
   "metadata": {},
   "outputs": [
    {
     "name": "stderr",
     "output_type": "stream",
     "text": [
      "/Users/phuembeli/anaconda3/envs/qiskit_develop/lib/python3.7/site-packages/networkx/drawing/nx_pylab.py:579: MatplotlibDeprecationWarning: \n",
      "The iterable function was deprecated in Matplotlib 3.1 and will be removed in 3.3. Use np.iterable instead.\n",
      "  if not cb.iterable(width):\n"
     ]
    },
    {
     "data": {
      "image/png": "[encoded data removed]",
      "text/plain": [
       "<Figure size 432x288 with 1 Axes>"
      ]
     },
     "metadata": {},
     "output_type": "display_data"
    }
   ],
   "source": [
    "# Generating a graph of 4 nodes \n",
    "\n",
    "n=4 # Number of nodes in graph\n",
    "G=nx.Graph()\n",
    "G.add_nodes_from(np.arange(0,n,1))\n",
    "elist=[(0,1,1.0),(0,2,1.0),(0,3,1.0),(1,2,1.0),(2,3,1.0)]\n",
    "# tuple is (i,j,weight) where (i,j) is the edge\n",
    "G.add_weighted_edges_from(elist)\n",
    "\n",
    "colors = ['r' for node in G.nodes()]\n",
    "pos = nx.spring_layout(G)\n",
    "default_axes = plt.axes(frameon=True)\n",
    "nx.draw_networkx(G, node_color=colors, node_size=600, alpha=.8, ax=default_axes, pos=pos)"
   ]
  },
  {
   "cell_type": "code",
   "execution_count": 163,
   "metadata": {},
   "outputs": [
    {
     "name": "stdout",
     "output_type": "stream",
     "text": [
      "[[0. 1. 1. 1.]\n",
      " [1. 0. 1. 0.]\n",
      " [1. 1. 0. 1.]\n",
      " [1. 0. 1. 0.]]\n",
      "Algorithm: VQE\n",
      "-- quantum_instance: None\n",
      "-- var_form: <qiskit.aqua.components.variational_forms.ry.RY object at 0x130015978>\n",
      "-- optimizer: <qiskit.aqua.components.optimizers.spsa.SPSA object at 0x12d208da0>\n",
      "-- cost_fn: <bound method VQE._energy_evaluation of <qiskit.aqua.algorithms.adaptive.vqe.vqe.VQE object at 0x12fff1828>>\n",
      "-- initial_point: Random seed\n",
      "-- use_simulator_operator_mode: None\n",
      "-- ret: None\n",
      "-- eval_time: None\n",
      "-- callback: None\n",
      "-- operator: Representation: paulis, qubits: 4, size: 5\n",
      "-- eval_count: 0\n",
      "-- aux_operators: []\n",
      "-- auto_conversion: True\n",
      "\n",
      "        ┌─────────────────┐ ░                                             »\n",
      "q_0: |0>┤ U3(0.69515,0,0) ├─░────────────────────■────────────────────────»\n",
      "        ├─────────────────┤ ░ ┌───────────────┐┌─┴─┐┌───────────────┐     »\n",
      "q_1: |0>┤ U3(0.45972,0,0) ├─░─┤ U3(pi/2,0,pi) ├┤ X ├┤ U3(pi/2,0,pi) ├──■──»\n",
      "        ├─────────────────┤ ░ ├───────────────┤└───┘└───────────────┘┌─┴─┐»\n",
      "q_2: |0>┤ U3(0.13212,0,0) ├─░─┤ U3(pi/2,0,pi) ├──────────────────────┤ X ├»\n",
      "        ├─────────────────┤ ░ ├───────────────┤                      └───┘»\n",
      "q_3: |0>┤ U3(0.27724,0,0) ├─░─┤ U3(pi/2,0,pi) ├───────────────────────────»\n",
      "        └─────────────────┘ ░ └───────────────┘                           »\n",
      " c_0: 0 ══════════════════════════════════════════════════════════════════»\n",
      "                                                                          »\n",
      " c_1: 0 ══════════════════════════════════════════════════════════════════»\n",
      "                                                                          »\n",
      " c_2: 0 ══════════════════════════════════════════════════════════════════»\n",
      "                                                                          »\n",
      " c_3: 0 ══════════════════════════════════════════════════════════════════»\n",
      "                                                                          »\n",
      "«                                             ░ ┌──────────────────┐ ░  ░ ┌─┐»\n",
      "«q_0: ────────────────────────────────────────░─┤ U3(0.085638,0,0) ├─░──░─┤M├»\n",
      "«                                             ░ ├─────────────────┬┘ ░  ░ └╥┘»\n",
      "«q_1: ────────────────────────────────────────░─┤ U3(0.16492,0,0) ├──░──░──╫─»\n",
      "«     ┌───────────────┐                       ░ ├─────────────────┤  ░  ░  ║ »\n",
      "«q_2: ┤ U3(pi/2,0,pi) ├──■────────────────────░─┤ U3(0.73137,0,0) ├──░──░──╫─»\n",
      "«     └───────────────┘┌─┴─┐┌───────────────┐ ░ ├─────────────────┤  ░  ░  ║ »\n",
      "«q_3: ─────────────────┤ X ├┤ U3(pi/2,0,pi) ├─░─┤ U3(0.84964,0,0) ├──░──░──╫─»\n",
      "«                      └───┘└───────────────┘ ░ └─────────────────┘  ░  ░  ║ »\n",
      "«c_0: ═════════════════════════════════════════════════════════════════════╩═»\n",
      "«                                                                            »\n",
      "«c_1: ═══════════════════════════════════════════════════════════════════════»\n",
      "«                                                                            »\n",
      "«c_2: ═══════════════════════════════════════════════════════════════════════»\n",
      "«                                                                            »\n",
      "«c_3: ═══════════════════════════════════════════════════════════════════════»\n",
      "«                                                                            »\n",
      "«              \n",
      "«q_0: ─────────\n",
      "«     ┌─┐      \n",
      "«q_1: ┤M├──────\n",
      "«     └╥┘┌─┐   \n",
      "«q_2: ─╫─┤M├───\n",
      "«      ║ └╥┘┌─┐\n",
      "«q_3: ─╫──╫─┤M├\n",
      "«      ║  ║ └╥┘\n",
      "«c_0: ═╬══╬══╬═\n",
      "«      ║  ║  ║ \n",
      "«c_1: ═╩══╬══╬═\n",
      "«         ║  ║ \n",
      "«c_2: ════╩══╬═\n",
      "«            ║ \n",
      "«c_3: ═══════╩═\n",
      "«              \n"
     ]
    },
    {
     "name": "stderr",
     "output_type": "stream",
     "text": [
      "/Users/phuembeli/Qiskit_develop/qiskit-aqua/qiskit/aqua/translators/ising/max_cut.py:132: DeprecationWarning: get_max_cut_qubitops function has been changed to get_qubit_opthe method here will be removed after Aqua 0.7+\n",
      "  DeprecationWarning)\n",
      "/Users/phuembeli/Qiskit_develop/qiskit-aqua/qiskit/aqua/translators/ising/docplex.py:285: DeprecationWarning: get_qubitops function has been changed to get_qubit_opthe method here will be removed after Aqua 0.7+\n",
      "  DeprecationWarning)\n"
     ]
    },
    {
     "ename": "AttributeError",
     "evalue": "'VQE' object has no attribute 'energy_evaluation'",
     "output_type": "error",
     "traceback": [
      "\u001b[0;31m---------------------------------------------------------------------------\u001b[0m",
      "\u001b[0;31mAttributeError\u001b[0m                            Traceback (most recent call last)",
      "\u001b[0;32m<ipython-input-163-336e6b27ad0f>\u001b[0m in \u001b[0;36m<module>\u001b[0;34m\u001b[0m\n\u001b[1;32m     49\u001b[0m \u001b[0mdictio\u001b[0m \u001b[0;34m=\u001b[0m \u001b[0;34m{\u001b[0m\u001b[0;34m'problem'\u001b[0m\u001b[0;34m:\u001b[0m \u001b[0;34m{\u001b[0m\u001b[0;34m'name'\u001b[0m\u001b[0;34m:\u001b[0m \u001b[0;34m'ising'\u001b[0m\u001b[0;34m}\u001b[0m\u001b[0;34m,\u001b[0m\u001b[0;34m'algorithm'\u001b[0m\u001b[0;34m:\u001b[0m \u001b[0malgorithm_cfg\u001b[0m\u001b[0;34m}\u001b[0m\u001b[0;34m\u001b[0m\u001b[0;34m\u001b[0m\u001b[0m\n\u001b[1;32m     50\u001b[0m \u001b[0;34m\u001b[0m\u001b[0m\n\u001b[0;32m---> 51\u001b[0;31m \u001b[0mvqe\u001b[0m\u001b[0;34m.\u001b[0m\u001b[0menergy_evaluation\u001b[0m\u001b[0;34m(\u001b[0m\u001b[0mparameters\u001b[0m\u001b[0;34m)\u001b[0m\u001b[0;34m\u001b[0m\u001b[0;34m\u001b[0m\u001b[0m\n\u001b[0m",
      "\u001b[0;31mAttributeError\u001b[0m: 'VQE' object has no attribute 'energy_evaluation'"
     ]
    }
   ],
   "source": [
    "from docplex.mp.model import Model\n",
    "from qiskit.aqua.translators.ising import docplex\n",
    "\n",
    "n=4\n",
    "\n",
    "w = np.zeros([n,n])\n",
    "for i in range(n):\n",
    "    for j in range(n):\n",
    "        temp = G.get_edge_data(i,j,default=0)\n",
    "        if temp != 0:\n",
    "            w[i,j] = temp['weight'] \n",
    "print(w)\n",
    "\n",
    "qubitOp, offset = max_cut.get_max_cut_qubitops(w)\n",
    "algo_input = EnergyInput(qubitOp)\n",
    "\n",
    "mdl = Model(name='max_cut')\n",
    "x = {i: mdl.binary_var(name='x_{0}'.format(i)) for i in range(n)}\n",
    "\n",
    "# Object function\n",
    "max_cut_func = mdl.sum(w[i,j]* x[i] * ( 1 - x[j] ) for i in range(n) for j in range(n))\n",
    "mdl.maximize(max_cut_func)\n",
    "\n",
    "# No constraints for Max-Cut problems.\n",
    "\n",
    "\n",
    "\n",
    "qubitOp_docplex, offset_docplex = docplex.get_qubitops(mdl)\n",
    "\n",
    "\n",
    "\n",
    "\n",
    "seed = 10598\n",
    "\n",
    "spsa = SPSA(max_trials=300)\n",
    "ry = RY(qubitOp.num_qubits, depth=1, entanglement='linear')\n",
    "vqe = VQE(qubitOp, ry, spsa)\n",
    "print(vqe.setting)\n",
    "\n",
    "backend = BasicAer.get_backend('statevector_simulator')\n",
    "quantum_instance = QuantumInstance(backend, seed_simulator=seed, seed_transpiler=seed)\n",
    "\n",
    "parameters = np.random.rand(8)\n",
    "circuits = vqe.construct_circuit(parameters)\n",
    "print(circuits[0])\n",
    "\n",
    "\n",
    "algorithm_cfg = {'name': 'VQE'}\n",
    "dictio = {'problem': {'name': 'ising'},'algorithm': algorithm_cfg}\n",
    "\n",
    "vqe.energy_evaluation(parameters)"
   ]
  },
  {
   "cell_type": "markdown",
   "metadata": {},
   "source": [
    "### MNIST in pytorch"
   ]
  },
  {
   "cell_type": "code",
   "execution_count": 32,
   "metadata": {},
   "outputs": [
    {
     "name": "stdout",
     "output_type": "stream",
     "text": [
      "Dataset MNIST\n",
      "    Number of datapoints: 12665\n",
      "    Root location: ./data\n",
      "    Split: Train\n",
      "    StandardTransform\n",
      "Transform: Compose(\n",
      "               ToTensor()\n",
      "           )\n"
     ]
    }
   ],
   "source": [
    "import torch\n",
    "import numpy as np\n",
    "from torchvision import datasets, transforms\n",
    "\n",
    "batch_size_train = 64\n",
    "batch_size_test = 1000\n",
    "learning_rate = 0.01\n",
    "momentum = 0.5\n",
    "log_interval = 10\n",
    "\n",
    "torch.backends.cudnn.enabled = False\n",
    "\n",
    "transform=torchvision.transforms.Compose([\n",
    "                               torchvision.transforms.ToTensor()])\n",
    "\n",
    "mnist_trainset = datasets.MNIST(root='./data', train=True, download=True, transform=transform)\n",
    "\n",
    "labels = mnist_trainset.targets #get labels\n",
    "labels = labels.numpy()\n",
    "idx1 = np.where(labels == 0) #search all zeros\n",
    "idx2 = np.where(labels == 1) # search all ones\n",
    "idx = np.concatenate((idx1[0],idx2[0])) # concatenate their indices\n",
    "mnist_trainset.targets = labels[idx] \n",
    "mnist_trainset.data = mnist_trainset.data[idx]\n",
    "\n",
    "print(mnist_trainset)\n",
    "\n",
    "\n",
    "train_loader = torch.utils.data.DataLoader(mnist_trainset, batch_size=batch_size_train, shuffle=True)\n"
   ]
  },
  {
   "cell_type": "code",
   "execution_count": 35,
   "metadata": {},
   "outputs": [],
   "source": [
    "import torch.nn as nn\n",
    "import torch.nn.functional as F\n",
    "import torch.optim as optim"
   ]
  },
  {
   "cell_type": "code",
   "execution_count": 50,
   "metadata": {},
   "outputs": [],
   "source": [
    "class Net(nn.Module):\n",
    "    def __init__(self):\n",
    "        super(Net, self).__init__()\n",
    "        self.conv1 = nn.Conv2d(1, 10, kernel_size=5)\n",
    "        self.conv2 = nn.Conv2d(10, 20, kernel_size=5)\n",
    "        self.conv2_drop = nn.Dropout2d()\n",
    "        self.fc1 = nn.Linear(320, 50)\n",
    "        self.fc2 = nn.Linear(50, 2)\n",
    "\n",
    "    def forward(self, x):\n",
    "        x = F.relu(F.max_pool2d(self.conv1(x), 2))\n",
    "        x = F.relu(F.max_pool2d(self.conv2_drop(self.conv2(x)), 2))\n",
    "        x = x.view(-1, 320)\n",
    "        x = F.relu(self.fc1(x))\n",
    "        x = F.dropout(x, training=self.training)\n",
    "        x = self.fc2(x)\n",
    "        return F.softmax(x)"
   ]
  },
  {
   "cell_type": "code",
   "execution_count": 51,
   "metadata": {},
   "outputs": [],
   "source": [
    "network = Net()\n",
    "optimizer = optim.SGD(network.parameters(), lr=learning_rate,\n",
    "                      momentum=momentum)"
   ]
  },
  {
   "cell_type": "code",
   "execution_count": 52,
   "metadata": {},
   "outputs": [
    {
     "name": "stderr",
     "output_type": "stream",
     "text": [
      "/Users/phuembeli/anaconda3/envs/qiskit_develop/lib/python3.7/site-packages/ipykernel_launcher.py:17: UserWarning: Implicit dimension choice for softmax has been deprecated. Change the call to include dim=X as an argument.\n"
     ]
    },
    {
     "name": "stdout",
     "output_type": "stream",
     "text": [
      "tensor(-0.9262, grad_fn=<NllLossBackward>)\n",
      "tensor(-0.9963, grad_fn=<NllLossBackward>)\n",
      "tensor(-0.9659, grad_fn=<NllLossBackward>)\n"
     ]
    }
   ],
   "source": [
    "epochs = 3\n",
    "for epoch in range(epochs):\n",
    "    for batch_idx, (data, target) in enumerate(train_loader):\n",
    "        optimizer.zero_grad()\n",
    "        output = network(data)\n",
    "        loss = F.nll_loss(output, target)\n",
    "        loss.backward()\n",
    "        optimizer.step()\n",
    "    print(loss)"
   ]
  },
  {
   "cell_type": "code",
   "execution_count": 59,
   "metadata": {},
   "outputs": [
    {
     "name": "stdout",
     "output_type": "stream",
     "text": [
      "57\n",
      "tensor(1) tensor(0.9952, grad_fn=<SelectBackward>)\n",
      "tensor(0) tensor(5.0027e-06, grad_fn=<SelectBackward>)\n",
      "tensor(1) tensor(1.0000, grad_fn=<SelectBackward>)\n",
      "tensor(1) tensor(1.0000, grad_fn=<SelectBackward>)\n",
      "tensor(1) tensor(0.9976, grad_fn=<SelectBackward>)\n",
      "tensor(1) tensor(1.0000, grad_fn=<SelectBackward>)\n",
      "tensor(1) tensor(0.9981, grad_fn=<SelectBackward>)\n",
      "tensor(1) tensor(0.9971, grad_fn=<SelectBackward>)\n",
      "tensor(1) tensor(1.0000, grad_fn=<SelectBackward>)\n",
      "tensor(1) tensor(1.0000, grad_fn=<SelectBackward>)\n",
      "tensor(1) tensor(1., grad_fn=<SelectBackward>)\n",
      "tensor(1) tensor(0.9999, grad_fn=<SelectBackward>)\n",
      "tensor(1) tensor(0.9979, grad_fn=<SelectBackward>)\n",
      "tensor(1) tensor(1.0000, grad_fn=<SelectBackward>)\n",
      "tensor(0) tensor(4.6695e-07, grad_fn=<SelectBackward>)\n",
      "tensor(0) tensor(0.0001, grad_fn=<SelectBackward>)\n",
      "tensor(1) tensor(1., grad_fn=<SelectBackward>)\n",
      "tensor(1) tensor(0.9997, grad_fn=<SelectBackward>)\n",
      "tensor(1) tensor(1.0000, grad_fn=<SelectBackward>)\n",
      "tensor(0) tensor(2.7465e-15, grad_fn=<SelectBackward>)\n",
      "tensor(1) tensor(0.9981, grad_fn=<SelectBackward>)\n",
      "tensor(1) tensor(1.0000, grad_fn=<SelectBackward>)\n",
      "tensor(1) tensor(0.4896, grad_fn=<SelectBackward>)\n",
      "tensor(1) tensor(1.0000, grad_fn=<SelectBackward>)\n",
      "tensor(0) tensor(9.2790e-08, grad_fn=<SelectBackward>)\n",
      "tensor(0) tensor(1.0095e-05, grad_fn=<SelectBackward>)\n",
      "tensor(1) tensor(1., grad_fn=<SelectBackward>)\n",
      "tensor(0) tensor(6.8501e-07, grad_fn=<SelectBackward>)\n",
      "tensor(0) tensor(2.4526e-11, grad_fn=<SelectBackward>)\n",
      "tensor(1) tensor(1.0000, grad_fn=<SelectBackward>)\n",
      "tensor(1) tensor(1., grad_fn=<SelectBackward>)\n",
      "tensor(0) tensor(1.5627e-07, grad_fn=<SelectBackward>)\n",
      "tensor(1) tensor(0.9994, grad_fn=<SelectBackward>)\n",
      "tensor(1) tensor(1.0000, grad_fn=<SelectBackward>)\n",
      "tensor(0) tensor(0.0002, grad_fn=<SelectBackward>)\n",
      "tensor(0) tensor(2.6155e-10, grad_fn=<SelectBackward>)\n",
      "tensor(1) tensor(1.0000, grad_fn=<SelectBackward>)\n",
      "tensor(1) tensor(0.9891, grad_fn=<SelectBackward>)\n",
      "tensor(1) tensor(0.9994, grad_fn=<SelectBackward>)\n",
      "tensor(1) tensor(0.9951, grad_fn=<SelectBackward>)\n",
      "tensor(0) tensor(2.0851e-11, grad_fn=<SelectBackward>)\n",
      "tensor(1) tensor(0.9968, grad_fn=<SelectBackward>)\n",
      "tensor(1) tensor(1.0000, grad_fn=<SelectBackward>)\n",
      "tensor(0) tensor(0.0006, grad_fn=<SelectBackward>)\n",
      "tensor(1) tensor(0.9955, grad_fn=<SelectBackward>)\n",
      "tensor(0) tensor(1.3243e-14, grad_fn=<SelectBackward>)\n",
      "tensor(1) tensor(0.9996, grad_fn=<SelectBackward>)\n",
      "tensor(1) tensor(1., grad_fn=<SelectBackward>)\n",
      "tensor(0) tensor(0.6651, grad_fn=<SelectBackward>)\n",
      "tensor(1) tensor(1., grad_fn=<SelectBackward>)\n",
      "tensor(1) tensor(0.9997, grad_fn=<SelectBackward>)\n",
      "tensor(0) tensor(0.7113, grad_fn=<SelectBackward>)\n",
      "tensor(1) tensor(1.0000, grad_fn=<SelectBackward>)\n",
      "tensor(0) tensor(0.0078, grad_fn=<SelectBackward>)\n",
      "tensor(0) tensor(4.8771e-09, grad_fn=<SelectBackward>)\n",
      "tensor(1) tensor(0.9996, grad_fn=<SelectBackward>)\n",
      "tensor(1) tensor(0.9960, grad_fn=<SelectBackward>)\n"
     ]
    }
   ],
   "source": [
    "length = target.shape[0]\n",
    "print(length)\n",
    "for i in range(length):\n",
    "    print(target[i], output[i][1])"
   ]
  }
 ],
 "metadata": {
  "kernelspec": {
   "display_name": "Python 3",
   "language": "python",
   "name": "python3"
  },
  "language_info": {
   "codemirror_mode": {
    "name": "ipython",
    "version": 3
   },
   "file_extension": ".py",
   "mimetype": "text/x-python",
   "name": "python",
   "nbconvert_exporter": "python",
   "pygments_lexer": "ipython3",
   "version": "3.6.8"
  }
 },
 "nbformat": 4,
 "nbformat_minor": 2
}
